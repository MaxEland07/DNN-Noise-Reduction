{
  "nbformat": 4,
  "nbformat_minor": 0,
  "metadata": {
    "colab": {
      "provenance": [],
      "mount_file_id": "1m8oQ39BW_hsr7oCq-uHJ_f9FNYX0hQZo",
      "authorship_tag": "ABX9TyOb2FDLiyfOoYWIrU91QUHe",
      "include_colab_link": true
    },
    "kernelspec": {
      "name": "python3",
      "display_name": "Python 3"
    },
    "language_info": {
      "name": "python"
    }
  },
  "cells": [
    {
      "cell_type": "markdown",
      "metadata": {
        "id": "view-in-github",
        "colab_type": "text"
      },
      "source": [
        "<a href=\"https://colab.research.google.com/github/MaxEland07/DNN-Noise-Reduction/blob/main/DL_Noise_Reduction.ipynb\" target=\"_parent\"><img src=\"https://colab.research.google.com/assets/colab-badge.svg\" alt=\"Open In Colab\"/></a>"
      ]
    },
    {
      "cell_type": "code",
      "execution_count": null,
      "metadata": {
        "colab": {
          "base_uri": "https://localhost:8080/"
        },
        "id": "tBs1OXEZsi-U",
        "outputId": "078a1059-8b63-4e2c-f74b-9cf8ef63ad99"
      },
      "outputs": [
        {
          "output_type": "stream",
          "name": "stdout",
          "text": [
            "Cloning into 'DCE-MRI-data-noise-reduction'...\n",
            "remote: Enumerating objects: 190, done.\u001b[K\n",
            "remote: Counting objects: 100% (10/10), done.\u001b[K\n",
            "remote: Compressing objects: 100% (10/10), done.\u001b[K\n",
            "remote: Total 190 (delta 3), reused 0 (delta 0), pack-reused 180 (from 1)\u001b[K\n",
            "Receiving objects: 100% (190/190), 4.88 MiB | 5.92 MiB/s, done.\n",
            "Resolving deltas: 100% (84/84), done.\n"
          ]
        }
      ],
      "source": [
        "!git clone https://github.com/Armos05/DCE-MRI-data-noise-reduction.git"
      ]
    },
    {
      "cell_type": "code",
      "source": [
        "pip install wfdb"
      ],
      "metadata": {
        "colab": {
          "base_uri": "https://localhost:8080/"
        },
        "id": "zdi8sZ2g0AwK",
        "outputId": "464f07c9-33ce-4aa3-bdab-6d8d4ef5162c"
      },
      "execution_count": null,
      "outputs": [
        {
          "output_type": "stream",
          "name": "stdout",
          "text": [
            "Collecting wfdb\n",
            "  Downloading wfdb-4.2.0-py3-none-any.whl.metadata (3.7 kB)\n",
            "Requirement already satisfied: matplotlib>=3.2.2 in /usr/local/lib/python3.11/dist-packages (from wfdb) (3.10.0)\n",
            "Requirement already satisfied: numpy>=1.26.4 in /usr/local/lib/python3.11/dist-packages (from wfdb) (1.26.4)\n",
            "Collecting pandas>=2.2.3 (from wfdb)\n",
            "  Downloading pandas-2.2.3-cp311-cp311-manylinux_2_17_x86_64.manylinux2014_x86_64.whl.metadata (89 kB)\n",
            "\u001b[2K     \u001b[90m━━━━━━━━━━━━━━━━━━━━━━━━━━━━━━━━━━━━━━━━\u001b[0m \u001b[32m89.9/89.9 kB\u001b[0m \u001b[31m1.9 MB/s\u001b[0m eta \u001b[36m0:00:00\u001b[0m\n",
            "\u001b[?25hRequirement already satisfied: requests>=2.8.1 in /usr/local/lib/python3.11/dist-packages (from wfdb) (2.32.3)\n",
            "Requirement already satisfied: scipy>=1.13.0 in /usr/local/lib/python3.11/dist-packages (from wfdb) (1.13.1)\n",
            "Requirement already satisfied: soundfile>=0.10.0 in /usr/local/lib/python3.11/dist-packages (from wfdb) (0.13.1)\n",
            "Requirement already satisfied: contourpy>=1.0.1 in /usr/local/lib/python3.11/dist-packages (from matplotlib>=3.2.2->wfdb) (1.3.1)\n",
            "Requirement already satisfied: cycler>=0.10 in /usr/local/lib/python3.11/dist-packages (from matplotlib>=3.2.2->wfdb) (0.12.1)\n",
            "Requirement already satisfied: fonttools>=4.22.0 in /usr/local/lib/python3.11/dist-packages (from matplotlib>=3.2.2->wfdb) (4.56.0)\n",
            "Requirement already satisfied: kiwisolver>=1.3.1 in /usr/local/lib/python3.11/dist-packages (from matplotlib>=3.2.2->wfdb) (1.4.8)\n",
            "Requirement already satisfied: packaging>=20.0 in /usr/local/lib/python3.11/dist-packages (from matplotlib>=3.2.2->wfdb) (24.2)\n",
            "Requirement already satisfied: pillow>=8 in /usr/local/lib/python3.11/dist-packages (from matplotlib>=3.2.2->wfdb) (11.1.0)\n",
            "Requirement already satisfied: pyparsing>=2.3.1 in /usr/local/lib/python3.11/dist-packages (from matplotlib>=3.2.2->wfdb) (3.2.1)\n",
            "Requirement already satisfied: python-dateutil>=2.7 in /usr/local/lib/python3.11/dist-packages (from matplotlib>=3.2.2->wfdb) (2.8.2)\n",
            "Requirement already satisfied: pytz>=2020.1 in /usr/local/lib/python3.11/dist-packages (from pandas>=2.2.3->wfdb) (2025.1)\n",
            "Requirement already satisfied: tzdata>=2022.7 in /usr/local/lib/python3.11/dist-packages (from pandas>=2.2.3->wfdb) (2025.1)\n",
            "Requirement already satisfied: charset-normalizer<4,>=2 in /usr/local/lib/python3.11/dist-packages (from requests>=2.8.1->wfdb) (3.4.1)\n",
            "Requirement already satisfied: idna<4,>=2.5 in /usr/local/lib/python3.11/dist-packages (from requests>=2.8.1->wfdb) (3.10)\n",
            "Requirement already satisfied: urllib3<3,>=1.21.1 in /usr/local/lib/python3.11/dist-packages (from requests>=2.8.1->wfdb) (2.3.0)\n",
            "Requirement already satisfied: certifi>=2017.4.17 in /usr/local/lib/python3.11/dist-packages (from requests>=2.8.1->wfdb) (2025.1.31)\n",
            "Requirement already satisfied: cffi>=1.0 in /usr/local/lib/python3.11/dist-packages (from soundfile>=0.10.0->wfdb) (1.17.1)\n",
            "Requirement already satisfied: pycparser in /usr/local/lib/python3.11/dist-packages (from cffi>=1.0->soundfile>=0.10.0->wfdb) (2.22)\n",
            "Requirement already satisfied: six>=1.5 in /usr/local/lib/python3.11/dist-packages (from python-dateutil>=2.7->matplotlib>=3.2.2->wfdb) (1.17.0)\n",
            "Downloading wfdb-4.2.0-py3-none-any.whl (162 kB)\n",
            "\u001b[2K   \u001b[90m━━━━━━━━━━━━━━━━━━━━━━━━━━━━━━━━━━━━━━━━\u001b[0m \u001b[32m162.3/162.3 kB\u001b[0m \u001b[31m5.9 MB/s\u001b[0m eta \u001b[36m0:00:00\u001b[0m\n",
            "\u001b[?25hDownloading pandas-2.2.3-cp311-cp311-manylinux_2_17_x86_64.manylinux2014_x86_64.whl (13.1 MB)\n",
            "\u001b[2K   \u001b[90m━━━━━━━━━━━━━━━━━━━━━━━━━━━━━━━━━━━━━━━━\u001b[0m \u001b[32m13.1/13.1 MB\u001b[0m \u001b[31m56.3 MB/s\u001b[0m eta \u001b[36m0:00:00\u001b[0m\n",
            "\u001b[?25hInstalling collected packages: pandas, wfdb\n",
            "  Attempting uninstall: pandas\n",
            "    Found existing installation: pandas 2.2.2\n",
            "    Uninstalling pandas-2.2.2:\n",
            "      Successfully uninstalled pandas-2.2.2\n",
            "\u001b[31mERROR: pip's dependency resolver does not currently take into account all the packages that are installed. This behaviour is the source of the following dependency conflicts.\n",
            "google-colab 1.0.0 requires pandas==2.2.2, but you have pandas 2.2.3 which is incompatible.\u001b[0m\u001b[31m\n",
            "\u001b[0mSuccessfully installed pandas-2.2.3 wfdb-4.2.0\n"
          ]
        }
      ]
    },
    {
      "cell_type": "code",
      "source": [
        "mkdir /content/DCE-MRI-data-noise-reduction/MIT-BIH-ST-Dataset"
      ],
      "metadata": {
        "id": "opMr9nOG14bJ"
      },
      "execution_count": null,
      "outputs": []
    },
    {
      "cell_type": "code",
      "source": [
        "!python /content/DCE-MRI-data-noise-reduction/Download-MIT.py"
      ],
      "metadata": {
        "colab": {
          "base_uri": "https://localhost:8080/"
        },
        "id": "56jQrICLvLLV",
        "outputId": "3f173d4f-c379-4b41-a828-e108f1efe9c2"
      },
      "execution_count": 31,
      "outputs": [
        {
          "output_type": "stream",
          "name": "stdout",
          "text": [
            "Downloading record 300...\n",
            "Generating record list for: 300\n",
            "Generating list of all files for: 300\n",
            "Downloading files...\n",
            "Finished downloading files\n",
            "Downloading record 301...\n",
            "Generating record list for: 301\n",
            "Generating list of all files for: 301\n",
            "Downloading files...\n",
            "Finished downloading files\n",
            "Downloading record 302...\n",
            "Generating record list for: 302\n",
            "Generating list of all files for: 302\n",
            "Downloading files...\n",
            "Finished downloading files\n",
            "Downloading record 303...\n",
            "Generating record list for: 303\n",
            "Generating list of all files for: 303\n",
            "Downloading files...\n",
            "Finished downloading files\n",
            "Downloading record 304...\n",
            "Generating record list for: 304\n",
            "Generating list of all files for: 304\n",
            "Downloading files...\n",
            "Finished downloading files\n",
            "Downloading record 305...\n",
            "Generating record list for: 305\n",
            "Generating list of all files for: 305\n",
            "Downloading files...\n",
            "Finished downloading files\n",
            "Downloading record 306...\n",
            "Generating record list for: 306\n",
            "Generating list of all files for: 306\n",
            "Downloading files...\n",
            "Finished downloading files\n",
            "Downloading record 307...\n",
            "Generating record list for: 307\n",
            "Generating list of all files for: 307\n",
            "Downloading files...\n",
            "Finished downloading files\n",
            "Downloading record 308...\n",
            "Generating record list for: 308\n",
            "Generating list of all files for: 308\n",
            "Downloading files...\n",
            "Finished downloading files\n",
            "Downloading record 309...\n",
            "Generating record list for: 309\n",
            "Generating list of all files for: 309\n",
            "Downloading files...\n",
            "Finished downloading files\n",
            "Downloading record 310...\n",
            "Generating record list for: 310\n",
            "Generating list of all files for: 310\n",
            "Downloading files...\n",
            "Finished downloading files\n",
            "Downloading record 311...\n",
            "Generating record list for: 311\n",
            "Generating list of all files for: 311\n",
            "Downloading files...\n",
            "Finished downloading files\n",
            "Downloading record 312...\n",
            "Generating record list for: 312\n",
            "Generating list of all files for: 312\n",
            "Downloading files...\n",
            "Finished downloading files\n",
            "Downloading record 313...\n",
            "Generating record list for: 313\n",
            "Generating list of all files for: 313\n",
            "Downloading files...\n",
            "Finished downloading files\n",
            "Downloading record 314...\n",
            "Generating record list for: 314\n",
            "Generating list of all files for: 314\n",
            "Downloading files...\n",
            "Finished downloading files\n",
            "Downloading record 315...\n",
            "Generating record list for: 315\n",
            "Generating list of all files for: 315\n",
            "Downloading files...\n",
            "Finished downloading files\n",
            "Downloading record 316...\n",
            "Generating record list for: 316\n",
            "Generating list of all files for: 316\n",
            "Downloading files...\n",
            "Finished downloading files\n",
            "Downloading record 317...\n",
            "Generating record list for: 317\n",
            "Generating list of all files for: 317\n",
            "Downloading files...\n",
            "Finished downloading files\n",
            "Downloading record 318...\n",
            "Generating record list for: 318\n",
            "Generating list of all files for: 318\n",
            "Downloading files...\n",
            "Finished downloading files\n",
            "Downloading record 319...\n",
            "Generating record list for: 319\n",
            "Generating list of all files for: 319\n",
            "Downloading files...\n",
            "Finished downloading files\n",
            "Download complete!\n",
            "Training data shape: (19908, 512, 1), (19908, 512, 1)\n",
            "Testing data shape: (4978, 512, 1), (4978, 512, 1)\n",
            "Data preparation complete!\n",
            "Files saved in /content/DCE-MRI-data-noise-reduction/MIT-BIH-ST-Dataset/Train_Test_Data:\n",
            "- mit_st_X_train.npy\n",
            "- mit_st_y_train.npy\n",
            "- mit_st_X_test.npy\n",
            "- mit_st_y_test.npy\n",
            "Example plots saved in /content/DCE-MRI-data-noise-reduction/MIT-BIH-ST-Dataset/Plots\n"
          ]
        }
      ]
    }
  ]
}